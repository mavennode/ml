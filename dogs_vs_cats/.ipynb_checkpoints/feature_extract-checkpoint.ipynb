{
 "cells": [
  {
   "cell_type": "code",
   "execution_count": null,
   "metadata": {
    "collapsed": true
   },
   "outputs": [],
   "source": [
    "# 这段代码直接上传256g内存，48核cpu服务器运行的，过程再pdf报告中已截图\n",
    "from keras.models import *\n",
    "from keras.layers import *\n",
    "from keras.preprocessing.image import *\n",
    "from keras.applications.xception import Xception\n",
    "from keras.applications.xception import preprocess_input\n",
    "import h5py\n",
    "# 输入图片尺寸，Xception默认为(299, 299), 使用tf做后端，channels_last的维度顺序(width, height, channels)\n",
    "input_tensor = Input(shape=(299, 299, 3))\n",
    "x = Lambda(preprocess_input)(input_tensor)\n",
    "# 使用ImageNet预训练模型Xception进行迁移学习\n",
    "base_model = Xception(input_tensor=x, weights='imagenet', include_top=False)\n",
    "# GlobalAveragePooling2D对卷积输出求平均，防止过拟合\n",
    "model = Model(inputs=base_model.input, outputs=GlobalAveragePooling2D()(base_model.output))\n",
    "# 数据增强\n",
    "train_datagen = ImageDataGenerator(\n",
    "    rotation_range=31,\n",
    "    width_shift_range=0.2,\n",
    "    height_shift_range=0.2,\n",
    "    horizontal_flip=True,)\n",
    "\n",
    "# 用于训练数据不增强时\n",
    "#train_datagen = ImageDataGenerator()\n",
    "\n",
    "test_datagen = ImageDataGenerator()\n",
    "\n",
    "# 由于服务器内存比较大，所以将batch_size设置为6000，这个是从1000慢慢提升到6000，峰值时期可以使用内存70%以上，cpu可以46核\n",
    "train_generator = train_datagen.flow_from_directory(\"data/train\", (299, 299), shuffle=False,\n",
    "                                          batch_size=6000)\n",
    "test_generator = test_datagen.flow_from_directory(\"data/test\", (299, 299), shuffle=False,\n",
    "                                         batch_size=6000, class_mode=None)\n",
    "\n",
    "train = model.predict_generator(train_generator)\n",
    "test = model.predict_generator(test_generator)\n",
    "# 数据不增强\n",
    "# with h5py.File(\"Xception_f.h5\") as h:\n",
    "#     h.create_dataset(\"train\", data=train)\n",
    "#     h.create_dataset(\"test\", data=test)\n",
    "#     h.create_dataset(\"label\", data=train_generator.classes)\n",
    "\n",
    "#数据增强，由于rotation_range=31，所以就以Xception_31.h5命名了\n",
    "with h5py.File(\"Xception_31.h5\") as h:\n",
    "    h.create_dataset(\"train\", data=train)\n",
    "    h.create_dataset(\"test\", data=test)\n",
    "    h.create_dataset(\"label\", data=train_generator.classes)"
   ]
  }
 ],
 "metadata": {
  "kernelspec": {
   "display_name": "Python 3",
   "language": "python",
   "name": "python3"
  },
  "language_info": {
   "codemirror_mode": {
    "name": "ipython",
    "version": 3
   },
   "file_extension": ".py",
   "mimetype": "text/x-python",
   "name": "python",
   "nbconvert_exporter": "python",
   "pygments_lexer": "ipython3",
   "version": "3.6.2"
  }
 },
 "nbformat": 4,
 "nbformat_minor": 2
}
