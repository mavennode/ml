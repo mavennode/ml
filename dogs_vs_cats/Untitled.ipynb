{
 "cells": [
  {
   "cell_type": "code",
   "execution_count": 29,
   "metadata": {},
   "outputs": [],
   "source": [
    "import h5py\n",
    "import numpy as np\n",
    "from sklearn.utils import shuffle\n",
    "np.random.seed(2018)"
   ]
  },
  {
   "cell_type": "code",
   "execution_count": 30,
   "metadata": {
    "collapsed": true
   },
   "outputs": [],
   "source": [
    "train = []\n",
    "test = []\n",
    "validation = []\n",
    "train_label = []\n",
    "validation_label = []"
   ]
  },
  {
   "cell_type": "code",
   "execution_count": 31,
   "metadata": {
    "collapsed": true
   },
   "outputs": [],
   "source": [
    "with h5py.File('Xception_feature_v1.h5', 'r') as h:\n",
    "    train.append(np.array(h['train']))\n",
    "    validation.append(np.array(h['validation']))\n",
    "    test.append(np.array(h['test']))\n",
    "    train_label = np.array(h['train_label'])\n",
    "    validation_label = np.array(h['validation_label'])"
   ]
  },
  {
   "cell_type": "code",
   "execution_count": 32,
   "metadata": {
    "collapsed": true
   },
   "outputs": [],
   "source": [
    "train = np.concatenate(train, axis=1)\n",
    "validation = np.concatenate(validation, axis=1)\n",
    "test = np.concatenate(test, axis=1)\n",
    "# print(X_test)"
   ]
  },
  {
   "cell_type": "code",
   "execution_count": 33,
   "metadata": {},
   "outputs": [],
   "source": [
    "from keras.models import *\n",
    "from keras.layers import *"
   ]
  },
  {
   "cell_type": "code",
   "execution_count": 34,
   "metadata": {},
   "outputs": [
    {
     "name": "stdout",
     "output_type": "stream",
     "text": [
      "0 input_2\n",
      "1 dense_4\n",
      "2 dropout_3\n",
      "3 dense_5\n",
      "4 dropout_4\n",
      "5 dense_6\n"
     ]
    }
   ],
   "source": [
    "input_tensor = Input(train.shape[1:])\n",
    "x = input_tensor\n",
    "x = Dense(1024, activation='relu')(x)\n",
    "x = Dropout(0.5)(x)\n",
    "x = Dense(64, activation='relu')(x)\n",
    "# 使用Dropout随机丢掉一部分特征\n",
    "x = Dropout(0.5)(x)\n",
    "# 使用sigmoid作为激活函数\n",
    "x = Dense(1, activation='sigmoid')(x)\n",
    "model = Model(input_tensor, x)\n",
    "\n",
    "# for layer in base_model.layers:\n",
    "#     layer.trainable = False\n",
    "\n",
    "# for layer in model.layers[:2]:\n",
    "#    layer.trainable = False\n",
    "# for layer in model.layers[2:]:\n",
    "#    layer.trainable = True\n",
    "\n",
    "for i, layer in enumerate(model.layers):\n",
    "   print(i, layer.name)\n",
    "    \n",
    "# 使用RMSprop优化器\n",
    "model.compile(optimizer='RMSprop',\n",
    "              loss='binary_crossentropy',\n",
    "              metrics=['accuracy'])"
   ]
  },
  {
   "cell_type": "code",
   "execution_count": 35,
   "metadata": {},
   "outputs": [
    {
     "data": {
      "image/svg+xml": [
       "<svg height=\"410pt\" viewBox=\"0.00 0.00 136.36 410.00\" width=\"136pt\" xmlns=\"http://www.w3.org/2000/svg\" xmlns:xlink=\"http://www.w3.org/1999/xlink\">\n",
       "<g class=\"graph\" id=\"graph0\" transform=\"scale(1 1) rotate(0) translate(4 406)\">\n",
       "<title>G</title>\n",
       "<polygon fill=\"#ffffff\" points=\"-4,4 -4,-406 132.3623,-406 132.3623,4 -4,4\" stroke=\"transparent\"/>\n",
       "<!-- 4636578760 -->\n",
       "<g class=\"node\" id=\"node1\">\n",
       "<title>4636578760</title>\n",
       "<polygon fill=\"none\" points=\"0,-365.5 0,-401.5 128.3623,-401.5 128.3623,-365.5 0,-365.5\" stroke=\"#000000\"/>\n",
       "<text fill=\"#000000\" font-family=\"Times,serif\" font-size=\"14.00\" text-anchor=\"middle\" x=\"64.1812\" y=\"-379.3\">input_2: InputLayer</text>\n",
       "</g>\n",
       "<!-- 4636579600 -->\n",
       "<g class=\"node\" id=\"node2\">\n",
       "<title>4636579600</title>\n",
       "<polygon fill=\"none\" points=\"12.0552,-292.5 12.0552,-328.5 116.3071,-328.5 116.3071,-292.5 12.0552,-292.5\" stroke=\"#000000\"/>\n",
       "<text fill=\"#000000\" font-family=\"Times,serif\" font-size=\"14.00\" text-anchor=\"middle\" x=\"64.1812\" y=\"-306.3\">dense_4: Dense</text>\n",
       "</g>\n",
       "<!-- 4636578760&#45;&gt;4636579600 -->\n",
       "<g class=\"edge\" id=\"edge1\">\n",
       "<title>4636578760-&gt;4636579600</title>\n",
       "<path d=\"M64.1812,-365.4551C64.1812,-357.3828 64.1812,-347.6764 64.1812,-338.6817\" fill=\"none\" stroke=\"#000000\"/>\n",
       "<polygon fill=\"#000000\" points=\"67.6813,-338.5903 64.1812,-328.5904 60.6813,-338.5904 67.6813,-338.5903\" stroke=\"#000000\"/>\n",
       "</g>\n",
       "<!-- 4636581448 -->\n",
       "<g class=\"node\" id=\"node3\">\n",
       "<title>4636581448</title>\n",
       "<polygon fill=\"none\" points=\".3794,-219.5 .3794,-255.5 127.9829,-255.5 127.9829,-219.5 .3794,-219.5\" stroke=\"#000000\"/>\n",
       "<text fill=\"#000000\" font-family=\"Times,serif\" font-size=\"14.00\" text-anchor=\"middle\" x=\"64.1812\" y=\"-233.3\">dropout_3: Dropout</text>\n",
       "</g>\n",
       "<!-- 4636579600&#45;&gt;4636581448 -->\n",
       "<g class=\"edge\" id=\"edge2\">\n",
       "<title>4636579600-&gt;4636581448</title>\n",
       "<path d=\"M64.1812,-292.4551C64.1812,-284.3828 64.1812,-274.6764 64.1812,-265.6817\" fill=\"none\" stroke=\"#000000\"/>\n",
       "<polygon fill=\"#000000\" points=\"67.6813,-265.5903 64.1812,-255.5904 60.6813,-265.5904 67.6813,-265.5903\" stroke=\"#000000\"/>\n",
       "</g>\n",
       "<!-- 4637524320 -->\n",
       "<g class=\"node\" id=\"node4\">\n",
       "<title>4637524320</title>\n",
       "<polygon fill=\"none\" points=\"12.0552,-146.5 12.0552,-182.5 116.3071,-182.5 116.3071,-146.5 12.0552,-146.5\" stroke=\"#000000\"/>\n",
       "<text fill=\"#000000\" font-family=\"Times,serif\" font-size=\"14.00\" text-anchor=\"middle\" x=\"64.1812\" y=\"-160.3\">dense_5: Dense</text>\n",
       "</g>\n",
       "<!-- 4636581448&#45;&gt;4637524320 -->\n",
       "<g class=\"edge\" id=\"edge3\">\n",
       "<title>4636581448-&gt;4637524320</title>\n",
       "<path d=\"M64.1812,-219.4551C64.1812,-211.3828 64.1812,-201.6764 64.1812,-192.6817\" fill=\"none\" stroke=\"#000000\"/>\n",
       "<polygon fill=\"#000000\" points=\"67.6813,-192.5903 64.1812,-182.5904 60.6813,-192.5904 67.6813,-192.5903\" stroke=\"#000000\"/>\n",
       "</g>\n",
       "<!-- 4500441184 -->\n",
       "<g class=\"node\" id=\"node5\">\n",
       "<title>4500441184</title>\n",
       "<polygon fill=\"none\" points=\".3794,-73.5 .3794,-109.5 127.9829,-109.5 127.9829,-73.5 .3794,-73.5\" stroke=\"#000000\"/>\n",
       "<text fill=\"#000000\" font-family=\"Times,serif\" font-size=\"14.00\" text-anchor=\"middle\" x=\"64.1812\" y=\"-87.3\">dropout_4: Dropout</text>\n",
       "</g>\n",
       "<!-- 4637524320&#45;&gt;4500441184 -->\n",
       "<g class=\"edge\" id=\"edge4\">\n",
       "<title>4637524320-&gt;4500441184</title>\n",
       "<path d=\"M64.1812,-146.4551C64.1812,-138.3828 64.1812,-128.6764 64.1812,-119.6817\" fill=\"none\" stroke=\"#000000\"/>\n",
       "<polygon fill=\"#000000\" points=\"67.6813,-119.5903 64.1812,-109.5904 60.6813,-119.5904 67.6813,-119.5903\" stroke=\"#000000\"/>\n",
       "</g>\n",
       "<!-- 4633636536 -->\n",
       "<g class=\"node\" id=\"node6\">\n",
       "<title>4633636536</title>\n",
       "<polygon fill=\"none\" points=\"12.0552,-.5 12.0552,-36.5 116.3071,-36.5 116.3071,-.5 12.0552,-.5\" stroke=\"#000000\"/>\n",
       "<text fill=\"#000000\" font-family=\"Times,serif\" font-size=\"14.00\" text-anchor=\"middle\" x=\"64.1812\" y=\"-14.3\">dense_6: Dense</text>\n",
       "</g>\n",
       "<!-- 4500441184&#45;&gt;4633636536 -->\n",
       "<g class=\"edge\" id=\"edge5\">\n",
       "<title>4500441184-&gt;4633636536</title>\n",
       "<path d=\"M64.1812,-73.4551C64.1812,-65.3828 64.1812,-55.6764 64.1812,-46.6817\" fill=\"none\" stroke=\"#000000\"/>\n",
       "<polygon fill=\"#000000\" points=\"67.6813,-46.5903 64.1812,-36.5904 60.6813,-46.5904 67.6813,-46.5903\" stroke=\"#000000\"/>\n",
       "</g>\n",
       "</g>\n",
       "</svg>"
      ],
      "text/plain": [
       "<IPython.core.display.SVG object>"
      ]
     },
     "execution_count": 35,
     "metadata": {},
     "output_type": "execute_result"
    }
   ],
   "source": [
    "from IPython.display import SVG\n",
    "from keras.utils.vis_utils import model_to_dot\n",
    "\n",
    "SVG(model_to_dot(model).create(prog='dot', format='svg'))"
   ]
  },
  {
   "cell_type": "code",
   "execution_count": 36,
   "metadata": {},
   "outputs": [],
   "source": [
    "from keras.callbacks import EarlyStopping\n",
    "from keras.callbacks import ModelCheckpoint\n",
    "earlystopping = EarlyStopping(monitor='val_loss',patience=0,verbose=0,mode='auto') \n",
    "checkpointer = ModelCheckpoint(filepath='weights.hdf5', verbose=1, save_best_only=True)"
   ]
  },
  {
   "cell_type": "code",
   "execution_count": 37,
   "metadata": {},
   "outputs": [
    {
     "name": "stdout",
     "output_type": "stream",
     "text": [
      "Train on 19940 samples, validate on 4985 samples\n",
      "Epoch 1/30\n",
      "19940/19940 [==============================] - 7s 373us/step - loss: 0.0623 - acc: 0.9835 - val_loss: 0.0171 - val_acc: 0.9958\n",
      "\n",
      "Epoch 00001: val_loss improved from inf to 0.01714, saving model to weights.hdf5\n",
      "Epoch 2/30\n",
      "19940/19940 [==============================] - 7s 368us/step - loss: 0.0292 - acc: 0.9936 - val_loss: 0.0158 - val_acc: 0.9954\n",
      "\n",
      "Epoch 00002: val_loss improved from 0.01714 to 0.01576, saving model to weights.hdf5\n",
      "Epoch 3/30\n",
      "19940/19940 [==============================] - 7s 358us/step - loss: 0.0253 - acc: 0.9937 - val_loss: 0.0118 - val_acc: 0.9954\n",
      "\n",
      "Epoch 00003: val_loss improved from 0.01576 to 0.01179, saving model to weights.hdf5\n",
      "Epoch 4/30\n",
      "19940/19940 [==============================] - 7s 364us/step - loss: 0.0225 - acc: 0.9950 - val_loss: 0.0185 - val_acc: 0.9954\n",
      "\n",
      "Epoch 00004: val_loss did not improve\n"
     ]
    }
   ],
   "source": [
    "hist = model.fit(train, train_label,\n",
    "          epochs=30,\n",
    "          batch_size=128,\n",
    "          validation_data=(validation, validation_label), callbacks=[checkpointer, earlystopping])"
   ]
  },
  {
   "cell_type": "code",
   "execution_count": 38,
   "metadata": {},
   "outputs": [
    {
     "data": {
      "image/png": "[encoded data removed]",
      "text/plain": [
       "<matplotlib.figure.Figure at 0x11458ff28>"
      ]
     },
     "metadata": {},
     "output_type": "display_data"
    }
   ],
   "source": [
    "import matplotlib.pyplot as plt\n",
    "fig = plt.figure()  \n",
    "plt.plot(hist.history['acc'])\n",
    "plt.plot(hist.history['val_acc'])\n",
    "#设置标题  \n",
    "plt.title('model_accuracy') \n",
    "plt.xlabel(\"epoch\")\n",
    "plt.ylabel(\"accuracy\")\n",
    "plt.legend(['train', 'val'], loc='upper left')\n",
    "plt.show()"
   ]
  },
  {
   "cell_type": "code",
   "execution_count": 39,
   "metadata": {},
   "outputs": [
    {
     "data": {
      "image/png": "[encoded data removed]",
      "text/plain": [
       "<matplotlib.figure.Figure at 0x11471b320>"
      ]
     },
     "metadata": {},
     "output_type": "display_data"
    }
   ],
   "source": [
    "import matplotlib.pyplot as plt\n",
    "fig = plt.figure()  \n",
    "plt.plot(hist.history['loss'])\n",
    "plt.plot(hist.history['val_loss'])\n",
    "#设置标题  \n",
    "plt.title('model_loss') \n",
    "plt.xlabel(\"epoch\")\n",
    "plt.ylabel(\"loss\")\n",
    "plt.legend(['train', 'val'], loc='upper left')\n",
    "plt.show()"
   ]
  },
  {
   "cell_type": "code",
   "execution_count": null,
   "metadata": {
    "collapsed": true
   },
   "outputs": [],
   "source": []
  }
 ],
 "metadata": {
  "kernelspec": {
   "display_name": "Python 3",
   "language": "python",
   "name": "python3"
  },
  "language_info": {
   "codemirror_mode": {
    "name": "ipython",
    "version": 3
   },
   "file_extension": ".py",
   "mimetype": "text/x-python",
   "name": "python",
   "nbconvert_exporter": "python",
   "pygments_lexer": "ipython3",
   "version": "3.6.2"
  }
 },
 "nbformat": 4,
 "nbformat_minor": 2
}
