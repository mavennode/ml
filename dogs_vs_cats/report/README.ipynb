{
 "cells": [
  {
   "cell_type": "markdown",
   "metadata": {},
   "source": [
    "# Dogs Vs Cats"
   ]
  },
  {
   "cell_type": "markdown",
   "metadata": {},
   "source": [
    "kaggle竞赛地址：[dogs vs cats](https://www.kaggle.com/c/dogs-vs-cats-redux-kernels-edition)\n",
    "\n",
    "参考：[ypwhs/dogs_vs_cats](https://github.com/ypwhs/dogs_vs_cats)"
   ]
  },
  {
   "cell_type": "markdown",
   "metadata": {},
   "source": [
    "## 改变\n",
    "\n",
    "1. 增加数据增强\n",
    "\n",
    "2. 使用Xception预训练模型\n",
    "\n",
    "3. 一些参数的修改，optimizer、epochs等"
   ]
  },
  {
   "cell_type": "markdown",
   "metadata": {},
   "source": [
    "## 代码\n",
    "1. preprocess.ipynb 为train目录下创建cats和dogs目录，将猫和狗数据分别移到各自目录，test下创建test目录，并将测试图片移到此目录。\n",
    "\n",
    "2. feature_extract.ipynb 为从Xception模型中提取特征\n",
    "\n",
    "3. train_predict.ipynb 为训练预测"
   ]
  },
  {
   "cell_type": "markdown",
   "metadata": {},
   "source": [
    "# 结果\n",
    "1. score: 0.04171\n",
    "\n",
    "2. val_loss: 0.0316\n",
    "\n",
    "3. val_acc: 0.9906"
   ]
  }
 ],
 "metadata": {
  "kernelspec": {
   "display_name": "Python 3",
   "language": "python",
   "name": "python3"
  },
  "language_info": {
   "codemirror_mode": {
    "name": "ipython",
    "version": 3
   },
   "file_extension": ".py",
   "mimetype": "text/x-python",
   "name": "python",
   "nbconvert_exporter": "python",
   "pygments_lexer": "ipython3",
   "version": "3.6.2"
  }
 },
 "nbformat": 4,
 "nbformat_minor": 2
}
