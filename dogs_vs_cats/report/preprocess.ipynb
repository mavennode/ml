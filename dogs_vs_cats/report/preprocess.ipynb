{
 "cells": [
  {
   "cell_type": "code",
   "execution_count": 1,
   "metadata": {
    "collapsed": true
   },
   "outputs": [],
   "source": [
    "import os\n",
    "\n",
    "import shutil\n",
    "\n",
    "dirname = 'data'\n",
    "filenames = os.listdir('data')\n",
    "train_dir = 'data/train'\n",
    "test_dir = 'data/test'"
   ]
  },
  {
   "cell_type": "code",
   "execution_count": 2,
   "metadata": {
    "collapsed": true
   },
   "outputs": [],
   "source": [
    "# 解压并创建目录\n",
    "def mkdir(dirname):\n",
    "    if os.path.exists(dirname):\n",
    "        shutil.unpack_archive(dirname+'/train.zip', 'data')\n",
    "        shutil.unpack_archive(dirname+'/test.zip', 'data')\n",
    "        os.mkdir('data/train/cats')\n",
    "        os.mkdir('data/train/dogs')\n",
    "        os.mkdir('data/test/test')"
   ]
  },
  {
   "cell_type": "code",
   "execution_count": 3,
   "metadata": {
    "collapsed": true
   },
   "outputs": [],
   "source": [
    "# 移动训练集中不同类型图片到指定目录\n",
    "def mv(train_dir, test_dir):\n",
    "    train_filenames = os.listdir(train_dir)\n",
    "    test_filenames = os.listdir(test_dir)\n",
    "    train_dog = filter(lambda x: x[:3] == 'dog', train_filenames)\n",
    "    train_cat = filter(lambda x: x[:3] == 'cat', train_filenames)\n",
    "    test = filter(lambda x: x[-3:] == 'jpg', test_filenames)\n",
    "    for i in train_dog:\n",
    "        shutil.move(train_dir+'/'+i, 'data/train/dogs')\n",
    "\n",
    "    for i in train_cat:\n",
    "        shutil.move(train_dir+'/'+i, 'data/train/cats')\n",
    "\n",
    "    for i in test:\n",
    "        shutil.move(test_dir+'/'+i, 'data/test/test')"
   ]
  },
  {
   "cell_type": "code",
   "execution_count": null,
   "metadata": {
    "collapsed": true
   },
   "outputs": [],
   "source": [
    "mkdir(dirname)\n",
    "mv(train_dir, test_dir)"
   ]
  }
 ],
 "metadata": {
  "kernelspec": {
   "display_name": "Python 3",
   "language": "python",
   "name": "python3"
  },
  "language_info": {
   "codemirror_mode": {
    "name": "ipython",
    "version": 3
   },
   "file_extension": ".py",
   "mimetype": "text/x-python",
   "name": "python",
   "nbconvert_exporter": "python",
   "pygments_lexer": "ipython3",
   "version": "3.6.2"
  }
 },
 "nbformat": 4,
 "nbformat_minor": 2
}
