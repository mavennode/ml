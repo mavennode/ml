{
 "cells": [
  {
   "cell_type": "code",
   "execution_count": 256,
   "metadata": {},
   "outputs": [],
   "source": [
    "import h5py\n",
    "import numpy as np\n",
    "from sklearn.utils import shuffle\n",
    "np.random.seed(2018)"
   ]
  },
  {
   "cell_type": "code",
   "execution_count": 257,
   "metadata": {
    "collapsed": true
   },
   "outputs": [],
   "source": [
    "X_train = []\n",
    "X_test = []"
   ]
  },
  {
   "cell_type": "code",
   "execution_count": 258,
   "metadata": {},
   "outputs": [],
   "source": [
    "# with h5py.File('Xception_f.h5', 'r') as h:\n",
    "#     X_train.append(np.array(h['train']))\n",
    "#     X_test.append(np.array(h['test']))\n",
    "#     y_train = np.array(h['label'])\n",
    "    \n",
    "with h5py.File('Xception_31.h5', 'r') as h:\n",
    "    X_train.append(np.array(h['train']))\n",
    "    X_test.append(np.array(h['test']))\n",
    "    y_train = np.array(h['label'])"
   ]
  },
  {
   "cell_type": "code",
   "execution_count": 259,
   "metadata": {},
   "outputs": [],
   "source": [
    "X_train = np.concatenate(X_train, axis=1)\n",
    "X_test = np.concatenate(X_test, axis=1)"
   ]
  },
  {
   "cell_type": "code",
   "execution_count": 260,
   "metadata": {
    "collapsed": true
   },
   "outputs": [],
   "source": [
    "X_train, y_train = shuffle(X_train, y_train)"
   ]
  },
  {
   "cell_type": "code",
   "execution_count": 261,
   "metadata": {},
   "outputs": [],
   "source": [
    "from keras.models import *\n",
    "from keras.layers import *"
   ]
  },
  {
   "cell_type": "code",
   "execution_count": 262,
   "metadata": {},
   "outputs": [],
   "source": [
    "input_tensor = Input(X_train.shape[1:])\n",
    "x = input_tensor\n",
    "# 使用Dropout随机丢掉一部分特征\n",
    "x = Dropout(0.5)(x)\n",
    "# 使用sigmoid作为激活函数\n",
    "x = Dense(1, activation='sigmoid')(x)\n",
    "model = Model(input_tensor, x)\n",
    "# 使用RMSprop优化器\n",
    "model.compile(optimizer='RMSprop',\n",
    "              loss='binary_crossentropy',\n",
    "              metrics=['accuracy'])"
   ]
  },
  {
   "cell_type": "code",
   "execution_count": 263,
   "metadata": {
    "collapsed": true
   },
   "outputs": [],
   "source": [
    "from IPython.display import SVG\n",
    "from keras.utils.vis_utils import model_to_dot,plot_model"
   ]
  },
  {
   "cell_type": "code",
   "execution_count": 264,
   "metadata": {},
   "outputs": [
    {
     "data": {
      "image/svg+xml": [
       "<svg height=\"215pt\" viewBox=\"0.00 0.00 289.68 215.00\" width=\"290pt\" xmlns=\"http://www.w3.org/2000/svg\" xmlns:xlink=\"http://www.w3.org/1999/xlink\">\n",
       "<g class=\"graph\" id=\"graph0\" transform=\"scale(1 1) rotate(0) translate(4 211)\">\n",
       "<title>G</title>\n",
       "<polygon fill=\"#ffffff\" points=\"-4,4 -4,-211 285.6797,-211 285.6797,4 -4,4\" stroke=\"transparent\"/>\n",
       "<!-- 4755203856 -->\n",
       "<g class=\"node\" id=\"node1\">\n",
       "<title>4755203856</title>\n",
       "<polygon fill=\"none\" points=\"0,-162.5 0,-206.5 281.6797,-206.5 281.6797,-162.5 0,-162.5\" stroke=\"#000000\"/>\n",
       "<text fill=\"#000000\" font-family=\"Times,serif\" font-size=\"14.00\" text-anchor=\"middle\" x=\"67.6812\" y=\"-180.3\">input_24: InputLayer</text>\n",
       "<polyline fill=\"none\" points=\"135.3623,-162.5 135.3623,-206.5 \" stroke=\"#000000\"/>\n",
       "<text fill=\"#000000\" font-family=\"Times,serif\" font-size=\"14.00\" text-anchor=\"middle\" x=\"163.1968\" y=\"-191.3\">input:</text>\n",
       "<polyline fill=\"none\" points=\"135.3623,-184.5 191.0313,-184.5 \" stroke=\"#000000\"/>\n",
       "<text fill=\"#000000\" font-family=\"Times,serif\" font-size=\"14.00\" text-anchor=\"middle\" x=\"163.1968\" y=\"-169.3\">output:</text>\n",
       "<polyline fill=\"none\" points=\"191.0313,-162.5 191.0313,-206.5 \" stroke=\"#000000\"/>\n",
       "<text fill=\"#000000\" font-family=\"Times,serif\" font-size=\"14.00\" text-anchor=\"middle\" x=\"236.3555\" y=\"-191.3\">(None, 2048)</text>\n",
       "<polyline fill=\"none\" points=\"191.0313,-184.5 281.6797,-184.5 \" stroke=\"#000000\"/>\n",
       "<text fill=\"#000000\" font-family=\"Times,serif\" font-size=\"14.00\" text-anchor=\"middle\" x=\"236.3555\" y=\"-169.3\">(None, 2048)</text>\n",
       "</g>\n",
       "<!-- 4753954464 -->\n",
       "<g class=\"node\" id=\"node2\">\n",
       "<title>4753954464</title>\n",
       "<polygon fill=\"none\" points=\".3794,-81.5 .3794,-125.5 281.3003,-125.5 281.3003,-81.5 .3794,-81.5\" stroke=\"#000000\"/>\n",
       "<text fill=\"#000000\" font-family=\"Times,serif\" font-size=\"14.00\" text-anchor=\"middle\" x=\"67.6812\" y=\"-99.3\">dropout_24: Dropout</text>\n",
       "<polyline fill=\"none\" points=\"134.9829,-81.5 134.9829,-125.5 \" stroke=\"#000000\"/>\n",
       "<text fill=\"#000000\" font-family=\"Times,serif\" font-size=\"14.00\" text-anchor=\"middle\" x=\"162.8174\" y=\"-110.3\">input:</text>\n",
       "<polyline fill=\"none\" points=\"134.9829,-103.5 190.6519,-103.5 \" stroke=\"#000000\"/>\n",
       "<text fill=\"#000000\" font-family=\"Times,serif\" font-size=\"14.00\" text-anchor=\"middle\" x=\"162.8174\" y=\"-88.3\">output:</text>\n",
       "<polyline fill=\"none\" points=\"190.6519,-81.5 190.6519,-125.5 \" stroke=\"#000000\"/>\n",
       "<text fill=\"#000000\" font-family=\"Times,serif\" font-size=\"14.00\" text-anchor=\"middle\" x=\"235.9761\" y=\"-110.3\">(None, 2048)</text>\n",
       "<polyline fill=\"none\" points=\"190.6519,-103.5 281.3003,-103.5 \" stroke=\"#000000\"/>\n",
       "<text fill=\"#000000\" font-family=\"Times,serif\" font-size=\"14.00\" text-anchor=\"middle\" x=\"235.9761\" y=\"-88.3\">(None, 2048)</text>\n",
       "</g>\n",
       "<!-- 4755203856&#45;&gt;4753954464 -->\n",
       "<g class=\"edge\" id=\"edge1\">\n",
       "<title>4755203856-&gt;4753954464</title>\n",
       "<path d=\"M140.8398,-162.3664C140.8398,-154.1516 140.8398,-144.6579 140.8398,-135.7252\" fill=\"none\" stroke=\"#000000\"/>\n",
       "<polygon fill=\"#000000\" points=\"144.3399,-135.6068 140.8398,-125.6068 137.3399,-135.6069 144.3399,-135.6068\" stroke=\"#000000\"/>\n",
       "</g>\n",
       "<!-- 4755205872 -->\n",
       "<g class=\"node\" id=\"node3\">\n",
       "<title>4755205872</title>\n",
       "<polygon fill=\"none\" points=\"12.0552,-.5 12.0552,-44.5 269.6245,-44.5 269.6245,-.5 12.0552,-.5\" stroke=\"#000000\"/>\n",
       "<text fill=\"#000000\" font-family=\"Times,serif\" font-size=\"14.00\" text-anchor=\"middle\" x=\"67.6812\" y=\"-18.3\">dense_24: Dense</text>\n",
       "<polyline fill=\"none\" points=\"123.3071,-.5 123.3071,-44.5 \" stroke=\"#000000\"/>\n",
       "<text fill=\"#000000\" font-family=\"Times,serif\" font-size=\"14.00\" text-anchor=\"middle\" x=\"151.1416\" y=\"-29.3\">input:</text>\n",
       "<polyline fill=\"none\" points=\"123.3071,-22.5 178.9761,-22.5 \" stroke=\"#000000\"/>\n",
       "<text fill=\"#000000\" font-family=\"Times,serif\" font-size=\"14.00\" text-anchor=\"middle\" x=\"151.1416\" y=\"-7.3\">output:</text>\n",
       "<polyline fill=\"none\" points=\"178.9761,-.5 178.9761,-44.5 \" stroke=\"#000000\"/>\n",
       "<text fill=\"#000000\" font-family=\"Times,serif\" font-size=\"14.00\" text-anchor=\"middle\" x=\"224.3003\" y=\"-29.3\">(None, 2048)</text>\n",
       "<polyline fill=\"none\" points=\"178.9761,-22.5 269.6245,-22.5 \" stroke=\"#000000\"/>\n",
       "<text fill=\"#000000\" font-family=\"Times,serif\" font-size=\"14.00\" text-anchor=\"middle\" x=\"224.3003\" y=\"-7.3\">(None, 1)</text>\n",
       "</g>\n",
       "<!-- 4753954464&#45;&gt;4755205872 -->\n",
       "<g class=\"edge\" id=\"edge2\">\n",
       "<title>4753954464-&gt;4755205872</title>\n",
       "<path d=\"M140.8398,-81.3664C140.8398,-73.1516 140.8398,-63.6579 140.8398,-54.7252\" fill=\"none\" stroke=\"#000000\"/>\n",
       "<polygon fill=\"#000000\" points=\"144.3399,-54.6068 140.8398,-44.6068 137.3399,-54.6069 144.3399,-54.6068\" stroke=\"#000000\"/>\n",
       "</g>\n",
       "</g>\n",
       "</svg>"
      ],
      "text/plain": [
       "<IPython.core.display.SVG object>"
      ]
     },
     "execution_count": 264,
     "metadata": {},
     "output_type": "execute_result"
    }
   ],
   "source": [
    "# 进行可视化\n",
    "SVG(model_to_dot(model, show_shapes=True).create(prog='dot', format='svg'))\n",
    "# plot_model(model, to_file='model.png',show_shapes=True)"
   ]
  },
  {
   "cell_type": "code",
   "execution_count": 265,
   "metadata": {},
   "outputs": [
    {
     "name": "stdout",
     "output_type": "stream",
     "text": [
      "Train on 20000 samples, validate on 5000 samples\n",
      "Epoch 1/16\n",
      "20000/20000 [==============================] - 1s 45us/step - loss: 0.1954 - acc: 0.9614 - val_loss: 0.0668 - val_acc: 0.9882\n",
      "Epoch 2/16\n",
      "20000/20000 [==============================] - 0s 16us/step - loss: 0.0557 - acc: 0.9851 - val_loss: 0.0404 - val_acc: 0.9894\n",
      "Epoch 3/16\n",
      "20000/20000 [==============================] - 0s 15us/step - loss: 0.0424 - acc: 0.9861 - val_loss: 0.0341 - val_acc: 0.9898\n",
      "Epoch 4/16\n",
      "20000/20000 [==============================] - 0s 17us/step - loss: 0.0368 - acc: 0.9875 - val_loss: 0.0313 - val_acc: 0.9904\n",
      "Epoch 5/16\n",
      "20000/20000 [==============================] - 0s 16us/step - loss: 0.0350 - acc: 0.9882 - val_loss: 0.0300 - val_acc: 0.9904\n",
      "Epoch 6/16\n",
      "20000/20000 [==============================] - 0s 16us/step - loss: 0.0339 - acc: 0.9881 - val_loss: 0.0291 - val_acc: 0.9910\n",
      "Epoch 7/16\n",
      "20000/20000 [==============================] - 0s 15us/step - loss: 0.0326 - acc: 0.9890 - val_loss: 0.0288 - val_acc: 0.9906\n",
      "Epoch 8/16\n",
      "20000/20000 [==============================] - 0s 16us/step - loss: 0.0322 - acc: 0.9882 - val_loss: 0.0286 - val_acc: 0.9912\n",
      "Epoch 9/16\n",
      "20000/20000 [==============================] - 0s 15us/step - loss: 0.0304 - acc: 0.9898 - val_loss: 0.0277 - val_acc: 0.9910\n",
      "Epoch 10/16\n",
      "20000/20000 [==============================] - 0s 15us/step - loss: 0.0305 - acc: 0.9886 - val_loss: 0.0274 - val_acc: 0.9910\n",
      "Epoch 11/16\n",
      "20000/20000 [==============================] - 0s 16us/step - loss: 0.0304 - acc: 0.9892 - val_loss: 0.0268 - val_acc: 0.9918\n",
      "Epoch 12/16\n",
      "20000/20000 [==============================] - 0s 22us/step - loss: 0.0285 - acc: 0.9900 - val_loss: 0.0269 - val_acc: 0.9916\n",
      "Epoch 13/16\n",
      "20000/20000 [==============================] - 0s 16us/step - loss: 0.0288 - acc: 0.9890 - val_loss: 0.0264 - val_acc: 0.9918\n",
      "Epoch 14/16\n",
      "20000/20000 [==============================] - 0s 18us/step - loss: 0.0276 - acc: 0.9901 - val_loss: 0.0263 - val_acc: 0.9920\n",
      "Epoch 15/16\n",
      "20000/20000 [==============================] - 0s 16us/step - loss: 0.0273 - acc: 0.9901 - val_loss: 0.0262 - val_acc: 0.9916\n",
      "Epoch 16/16\n",
      "20000/20000 [==============================] - 0s 15us/step - loss: 0.0273 - acc: 0.9904 - val_loss: 0.0260 - val_acc: 0.9920\n"
     ]
    },
    {
     "data": {
      "text/plain": [
       "<keras.callbacks.History at 0x10e590470>"
      ]
     },
     "execution_count": 265,
     "metadata": {},
     "output_type": "execute_result"
    }
   ],
   "source": [
    "# 训练集和验证集8:2分割\n",
    "model.fit(X_train, y_train, batch_size=256, epochs=16, validation_split=0.2)"
   ]
  },
  {
   "cell_type": "code",
   "execution_count": 266,
   "metadata": {
    "collapsed": true
   },
   "outputs": [],
   "source": [
    "model.save('model.h5')"
   ]
  },
  {
   "cell_type": "code",
   "execution_count": 267,
   "metadata": {},
   "outputs": [],
   "source": [
    "y_pred = model.predict(X_test)\n",
    "y_pred = y_pred.clip(min=0.005, max=0.995)"
   ]
  },
  {
   "cell_type": "code",
   "execution_count": 268,
   "metadata": {
    "collapsed": true
   },
   "outputs": [],
   "source": [
    "import pandas as pd\n",
    "from keras.preprocessing.image import *"
   ]
  },
  {
   "cell_type": "code",
   "execution_count": 269,
   "metadata": {
    "scrolled": true
   },
   "outputs": [
    {
     "name": "stdout",
     "output_type": "stream",
     "text": [
      "Found 12500 images belonging to 1 classes.\n"
     ]
    },
    {
     "data": {
      "text/html": [
       "<div>\n",
       "<style>\n",
       "    .dataframe thead tr:only-child th {\n",
       "        text-align: right;\n",
       "    }\n",
       "\n",
       "    .dataframe thead th {\n",
       "        text-align: left;\n",
       "    }\n",
       "\n",
       "    .dataframe tbody tr th {\n",
       "        vertical-align: top;\n",
       "    }\n",
       "</style>\n",
       "<table border=\"1\" class=\"dataframe\">\n",
       "  <thead>\n",
       "    <tr style=\"text-align: right;\">\n",
       "      <th></th>\n",
       "      <th>id</th>\n",
       "      <th>label</th>\n",
       "    </tr>\n",
       "  </thead>\n",
       "  <tbody>\n",
       "    <tr>\n",
       "      <th>0</th>\n",
       "      <td>1</td>\n",
       "      <td>0.995</td>\n",
       "    </tr>\n",
       "    <tr>\n",
       "      <th>1</th>\n",
       "      <td>2</td>\n",
       "      <td>0.995</td>\n",
       "    </tr>\n",
       "    <tr>\n",
       "      <th>2</th>\n",
       "      <td>3</td>\n",
       "      <td>0.995</td>\n",
       "    </tr>\n",
       "    <tr>\n",
       "      <th>3</th>\n",
       "      <td>4</td>\n",
       "      <td>0.995</td>\n",
       "    </tr>\n",
       "    <tr>\n",
       "      <th>4</th>\n",
       "      <td>5</td>\n",
       "      <td>0.005</td>\n",
       "    </tr>\n",
       "    <tr>\n",
       "      <th>5</th>\n",
       "      <td>6</td>\n",
       "      <td>0.005</td>\n",
       "    </tr>\n",
       "    <tr>\n",
       "      <th>6</th>\n",
       "      <td>7</td>\n",
       "      <td>0.005</td>\n",
       "    </tr>\n",
       "    <tr>\n",
       "      <th>7</th>\n",
       "      <td>8</td>\n",
       "      <td>0.005</td>\n",
       "    </tr>\n",
       "  </tbody>\n",
       "</table>\n",
       "</div>"
      ],
      "text/plain": [
       "   id  label\n",
       "0   1  0.995\n",
       "1   2  0.995\n",
       "2   3  0.995\n",
       "3   4  0.995\n",
       "4   5  0.005\n",
       "5   6  0.005\n",
       "6   7  0.005\n",
       "7   8  0.005"
      ]
     },
     "execution_count": 269,
     "metadata": {},
     "output_type": "execute_result"
    }
   ],
   "source": [
    "\n",
    "df = pd.read_csv(\"data/sample_submission.csv\")\n",
    "# df.head(8)\n",
    "\n",
    "test_gen = ImageDataGenerator()\n",
    "test_generator = test_gen.flow_from_directory(\"data/test\", (299, 299), shuffle=False,\n",
    "                                         batch_size=64, class_mode=None)\n",
    "\n",
    "for i, fname in enumerate(test_generator.filenames):\n",
    "    # print(i, fname, y_pred[i])\n",
    "    index = int(fname[fname.rfind('/')+1:fname.rfind('.')])      \n",
    "#     print(index-1, y_pred[i])\n",
    "    df.set_value(index-1, 'label', y_pred[i])   \n",
    "# index=None，将index不写入csv文件\n",
    "# df.to_csv('pred.csv')\n",
    "# df.to_csv('pred.csv', index=None)\n",
    "df.to_csv('pred1.csv', index=None)\n",
    "df.head(8)"
   ]
  },
  {
   "cell_type": "code",
   "execution_count": null,
   "metadata": {
    "collapsed": true
   },
   "outputs": [],
   "source": []
  }
 ],
 "metadata": {
  "kernelspec": {
   "display_name": "Python 3",
   "language": "python",
   "name": "python3"
  },
  "language_info": {
   "codemirror_mode": {
    "name": "ipython",
    "version": 3
   },
   "file_extension": ".py",
   "mimetype": "text/x-python",
   "name": "python",
   "nbconvert_exporter": "python",
   "pygments_lexer": "ipython3",
   "version": "3.6.2"
  }
 },
 "nbformat": 4,
 "nbformat_minor": 2
}
