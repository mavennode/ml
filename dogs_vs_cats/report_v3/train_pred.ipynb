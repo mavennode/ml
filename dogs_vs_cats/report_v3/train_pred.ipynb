{
 "cells": [
  {
   "cell_type": "code",
   "execution_count": 416,
   "metadata": {},
   "outputs": [],
   "source": [
    "import h5py\n",
    "import numpy as np\n",
    "from sklearn.utils import shuffle\n",
    "np.random.seed(2018)"
   ]
  },
  {
   "cell_type": "code",
   "execution_count": 417,
   "metadata": {
    "collapsed": true
   },
   "outputs": [],
   "source": [
    "train = []\n",
    "test = []\n",
    "validation = []\n",
    "train_label = []\n",
    "validation_label = []"
   ]
  },
  {
   "cell_type": "code",
   "execution_count": 418,
   "metadata": {},
   "outputs": [],
   "source": [
    "with h5py.File('Xception_feature_v1.h5', 'r') as h:\n",
    "    train.append(np.array(h['train']))\n",
    "    validation.append(np.array(h['validation']))\n",
    "    test.append(np.array(h['test']))\n",
    "    train_label = np.array(h['train_label'])\n",
    "    validation_label = np.array(h['validation_label'])"
   ]
  },
  {
   "cell_type": "code",
   "execution_count": 419,
   "metadata": {},
   "outputs": [],
   "source": [
    "train = np.concatenate(train, axis=1)\n",
    "validation = np.concatenate(validation, axis=1)\n",
    "test = np.concatenate(test, axis=1)\n",
    "# print(X_test)"
   ]
  },
  {
   "cell_type": "code",
   "execution_count": 420,
   "metadata": {},
   "outputs": [],
   "source": [
    "from keras.models import *\n",
    "from keras.layers import *"
   ]
  },
  {
   "cell_type": "code",
   "execution_count": 421,
   "metadata": {},
   "outputs": [
    {
     "name": "stdout",
     "output_type": "stream",
     "text": [
      "0 input_68\n",
      "1 dense_119\n",
      "2 dropout_69\n",
      "3 dense_120\n",
      "4 dropout_70\n",
      "5 dense_121\n"
     ]
    }
   ],
   "source": [
    "input_tensor = Input(train.shape[1:])\n",
    "x = input_tensor\n",
    "x = Dense(1024, activation='relu')(x)\n",
    "x = Dropout(0.5)(x)\n",
    "x = Dense(64, activation='relu')(x)\n",
    "# 使用Dropout随机丢掉一部分特征\n",
    "x = Dropout(0.5)(x)\n",
    "# 使用sigmoid作为激活函数\n",
    "x = Dense(1, activation='sigmoid')(x)\n",
    "model = Model(input_tensor, x)\n",
    "\n",
    "# for layer in base_model.layers:\n",
    "#     layer.trainable = False\n",
    "\n",
    "# for layer in model.layers[:2]:\n",
    "#    layer.trainable = False\n",
    "# for layer in model.layers[2:]:\n",
    "#    layer.trainable = True\n",
    "\n",
    "for i, layer in enumerate(model.layers):\n",
    "   print(i, layer.name)\n",
    "    \n",
    "# 使用RMSprop优化器\n",
    "model.compile(optimizer='RMSprop',\n",
    "              loss='binary_crossentropy',\n",
    "              metrics=['accuracy'])"
   ]
  },
  {
   "cell_type": "code",
   "execution_count": 422,
   "metadata": {},
   "outputs": [
    {
     "data": {
      "image/svg+xml": [
       "<svg height=\"410pt\" viewBox=\"0.00 0.00 143.36 410.00\" width=\"143pt\" xmlns=\"http://www.w3.org/2000/svg\" xmlns:xlink=\"http://www.w3.org/1999/xlink\">\n",
       "<g class=\"graph\" id=\"graph0\" transform=\"scale(1 1) rotate(0) translate(4 406)\">\n",
       "<title>G</title>\n",
       "<polygon fill=\"#ffffff\" points=\"-4,4 -4,-406 139.3623,-406 139.3623,4 -4,4\" stroke=\"transparent\"/>\n",
       "<!-- 7335092464 -->\n",
       "<g class=\"node\" id=\"node1\">\n",
       "<title>7335092464</title>\n",
       "<polygon fill=\"none\" points=\"0,-365.5 0,-401.5 135.3623,-401.5 135.3623,-365.5 0,-365.5\" stroke=\"#000000\"/>\n",
       "<text fill=\"#000000\" font-family=\"Times,serif\" font-size=\"14.00\" text-anchor=\"middle\" x=\"67.6812\" y=\"-379.3\">input_68: InputLayer</text>\n",
       "</g>\n",
       "<!-- 7335092352 -->\n",
       "<g class=\"node\" id=\"node2\">\n",
       "<title>7335092352</title>\n",
       "<polygon fill=\"none\" points=\"8.8115,-292.5 8.8115,-328.5 126.5508,-328.5 126.5508,-292.5 8.8115,-292.5\" stroke=\"#000000\"/>\n",
       "<text fill=\"#000000\" font-family=\"Times,serif\" font-size=\"14.00\" text-anchor=\"middle\" x=\"67.6812\" y=\"-306.3\">dense_119: Dense</text>\n",
       "</g>\n",
       "<!-- 7335092464&#45;&gt;7335092352 -->\n",
       "<g class=\"edge\" id=\"edge1\">\n",
       "<title>7335092464-&gt;7335092352</title>\n",
       "<path d=\"M67.6812,-365.4551C67.6812,-357.3828 67.6812,-347.6764 67.6812,-338.6817\" fill=\"none\" stroke=\"#000000\"/>\n",
       "<polygon fill=\"#000000\" points=\"71.1813,-338.5903 67.6812,-328.5904 64.1813,-338.5904 71.1813,-338.5903\" stroke=\"#000000\"/>\n",
       "</g>\n",
       "<!-- 7335095376 -->\n",
       "<g class=\"node\" id=\"node3\">\n",
       "<title>7335095376</title>\n",
       "<polygon fill=\"none\" points=\".3794,-219.5 .3794,-255.5 134.9829,-255.5 134.9829,-219.5 .3794,-219.5\" stroke=\"#000000\"/>\n",
       "<text fill=\"#000000\" font-family=\"Times,serif\" font-size=\"14.00\" text-anchor=\"middle\" x=\"67.6812\" y=\"-233.3\">dropout_69: Dropout</text>\n",
       "</g>\n",
       "<!-- 7335092352&#45;&gt;7335095376 -->\n",
       "<g class=\"edge\" id=\"edge2\">\n",
       "<title>7335092352-&gt;7335095376</title>\n",
       "<path d=\"M67.6812,-292.4551C67.6812,-284.3828 67.6812,-274.6764 67.6812,-265.6817\" fill=\"none\" stroke=\"#000000\"/>\n",
       "<polygon fill=\"#000000\" points=\"71.1813,-265.5903 67.6812,-255.5904 64.1813,-265.5904 71.1813,-265.5903\" stroke=\"#000000\"/>\n",
       "</g>\n",
       "<!-- 7335533704 -->\n",
       "<g class=\"node\" id=\"node4\">\n",
       "<title>7335533704</title>\n",
       "<polygon fill=\"none\" points=\"8.5552,-146.5 8.5552,-182.5 126.8071,-182.5 126.8071,-146.5 8.5552,-146.5\" stroke=\"#000000\"/>\n",
       "<text fill=\"#000000\" font-family=\"Times,serif\" font-size=\"14.00\" text-anchor=\"middle\" x=\"67.6812\" y=\"-160.3\">dense_120: Dense</text>\n",
       "</g>\n",
       "<!-- 7335095376&#45;&gt;7335533704 -->\n",
       "<g class=\"edge\" id=\"edge3\">\n",
       "<title>7335095376-&gt;7335533704</title>\n",
       "<path d=\"M67.6812,-219.4551C67.6812,-211.3828 67.6812,-201.6764 67.6812,-192.6817\" fill=\"none\" stroke=\"#000000\"/>\n",
       "<polygon fill=\"#000000\" points=\"71.1813,-192.5903 67.6812,-182.5904 64.1813,-192.5904 71.1813,-192.5903\" stroke=\"#000000\"/>\n",
       "</g>\n",
       "<!-- 7335001448 -->\n",
       "<g class=\"node\" id=\"node5\">\n",
       "<title>7335001448</title>\n",
       "<polygon fill=\"none\" points=\".3794,-73.5 .3794,-109.5 134.9829,-109.5 134.9829,-73.5 .3794,-73.5\" stroke=\"#000000\"/>\n",
       "<text fill=\"#000000\" font-family=\"Times,serif\" font-size=\"14.00\" text-anchor=\"middle\" x=\"67.6812\" y=\"-87.3\">dropout_70: Dropout</text>\n",
       "</g>\n",
       "<!-- 7335533704&#45;&gt;7335001448 -->\n",
       "<g class=\"edge\" id=\"edge4\">\n",
       "<title>7335533704-&gt;7335001448</title>\n",
       "<path d=\"M67.6812,-146.4551C67.6812,-138.3828 67.6812,-128.6764 67.6812,-119.6817\" fill=\"none\" stroke=\"#000000\"/>\n",
       "<polygon fill=\"#000000\" points=\"71.1813,-119.5903 67.6812,-109.5904 64.1813,-119.5904 71.1813,-119.5903\" stroke=\"#000000\"/>\n",
       "</g>\n",
       "<!-- 7335264776 -->\n",
       "<g class=\"node\" id=\"node6\">\n",
       "<title>7335264776</title>\n",
       "<polygon fill=\"none\" points=\"8.5552,-.5 8.5552,-36.5 126.8071,-36.5 126.8071,-.5 8.5552,-.5\" stroke=\"#000000\"/>\n",
       "<text fill=\"#000000\" font-family=\"Times,serif\" font-size=\"14.00\" text-anchor=\"middle\" x=\"67.6812\" y=\"-14.3\">dense_121: Dense</text>\n",
       "</g>\n",
       "<!-- 7335001448&#45;&gt;7335264776 -->\n",
       "<g class=\"edge\" id=\"edge5\">\n",
       "<title>7335001448-&gt;7335264776</title>\n",
       "<path d=\"M67.6812,-73.4551C67.6812,-65.3828 67.6812,-55.6764 67.6812,-46.6817\" fill=\"none\" stroke=\"#000000\"/>\n",
       "<polygon fill=\"#000000\" points=\"71.1813,-46.5903 67.6812,-36.5904 64.1813,-46.5904 71.1813,-46.5903\" stroke=\"#000000\"/>\n",
       "</g>\n",
       "</g>\n",
       "</svg>"
      ],
      "text/plain": [
       "<IPython.core.display.SVG object>"
      ]
     },
     "execution_count": 422,
     "metadata": {},
     "output_type": "execute_result"
    }
   ],
   "source": [
    "from IPython.display import SVG\n",
    "from keras.utils.vis_utils import model_to_dot\n",
    "\n",
    "SVG(model_to_dot(model).create(prog='dot', format='svg'))"
   ]
  },
  {
   "cell_type": "code",
   "execution_count": 423,
   "metadata": {
    "collapsed": true
   },
   "outputs": [],
   "source": [
    "from keras.callbacks import EarlyStopping\n",
    "from keras.callbacks import ModelCheckpoint\n",
    "# 当被监测的数量不再提升，则停止训练\n",
    "earlystopping = EarlyStopping(monitor='val_loss', patience=0, verbose=0, mode='auto')  \n",
    "# 在每个训练期之后保存模型\n",
    "checkpointer = ModelCheckpoint(filepath='weights.hdf5', verbose=1, save_best_only=True)"
   ]
  },
  {
   "cell_type": "code",
   "execution_count": 424,
   "metadata": {
    "scrolled": true
   },
   "outputs": [
    {
     "name": "stdout",
     "output_type": "stream",
     "text": [
      "Train on 19940 samples, validate on 4985 samples\n",
      "Epoch 1/30\n",
      "19940/19940 [==============================] - 12s 610us/step - loss: 0.0632 - acc: 0.9831 - val_loss: 0.0182 - val_acc: 0.9960\n",
      "\n",
      "Epoch 00001: val_loss improved from inf to 0.01820, saving model to weights.hdf5\n",
      "Epoch 2/30\n",
      "19940/19940 [==============================] - 8s 380us/step - loss: 0.0303 - acc: 0.9932 - val_loss: 0.0149 - val_acc: 0.9956\n",
      "\n",
      "Epoch 00002: val_loss improved from 0.01820 to 0.01490, saving model to weights.hdf5\n",
      "Epoch 3/30\n",
      "19940/19940 [==============================] - 7s 363us/step - loss: 0.0255 - acc: 0.9936 - val_loss: 0.0112 - val_acc: 0.9948\n",
      "\n",
      "Epoch 00003: val_loss improved from 0.01490 to 0.01115, saving model to weights.hdf5\n",
      "Epoch 4/30\n",
      "19940/19940 [==============================] - 7s 330us/step - loss: 0.0246 - acc: 0.9950 - val_loss: 0.0154 - val_acc: 0.9952\n",
      "\n",
      "Epoch 00004: val_loss did not improve\n"
     ]
    }
   ],
   "source": [
    "hist = model.fit(train, train_label,\n",
    "          epochs=30,\n",
    "          batch_size=128,\n",
    "          validation_data=(validation, validation_label),\n",
    "          callbacks=[checkpointer, earlystopping])"
   ]
  },
  {
   "cell_type": "code",
   "execution_count": 425,
   "metadata": {},
   "outputs": [
    {
     "name": "stdout",
     "output_type": "stream",
     "text": [
      "4985/4985 [==============================] - 1s 260us/step\n",
      "test loss 0.015447708262972938\n",
      "accuracy 0.9951855566700101\n"
     ]
    }
   ],
   "source": [
    "loss,accuracy = model.evaluate(validation,validation_label)\n",
    "print('test loss',loss)\n",
    "print('accuracy',accuracy)"
   ]
  },
  {
   "cell_type": "code",
   "execution_count": 426,
   "metadata": {},
   "outputs": [
    {
     "data": {
      "image/png": "[encoded data removed]",
      "text/plain": [
       "<matplotlib.figure.Figure at 0x1c954dcf8>"
      ]
     },
     "metadata": {},
     "output_type": "display_data"
    }
   ],
   "source": [
    "import matplotlib.pyplot as plt\n",
    "fig = plt.figure()  \n",
    "plt.plot(hist.history['acc'])\n",
    "plt.plot(hist.history['val_acc'])\n",
    "#设置标题  \n",
    "plt.title('model_accuracy') \n",
    "plt.xlabel(\"epoch\")\n",
    "plt.ylabel(\"accuracy\")\n",
    "plt.legend(['train', 'val'], loc='upper left')\n",
    "plt.show()"
   ]
  },
  {
   "cell_type": "code",
   "execution_count": 427,
   "metadata": {},
   "outputs": [
    {
     "data": {
      "image/png": "[encoded data removed]",
      "text/plain": [
       "<matplotlib.figure.Figure at 0x1c86d6320>"
      ]
     },
     "metadata": {},
     "output_type": "display_data"
    }
   ],
   "source": [
    "import matplotlib.pyplot as plt\n",
    "fig = plt.figure()  \n",
    "plt.plot(hist.history['loss'])\n",
    "plt.plot(hist.history['val_loss'])\n",
    "#设置标题  \n",
    "plt.title('model_loss') \n",
    "plt.xlabel(\"epoch\")\n",
    "plt.ylabel(\"loss\")\n",
    "plt.legend(['train', 'val'], loc='upper left')\n",
    "plt.show()"
   ]
  },
  {
   "cell_type": "code",
   "execution_count": 428,
   "metadata": {},
   "outputs": [
    {
     "name": "stdout",
     "output_type": "stream",
     "text": [
      "[[0.995]\n",
      " [0.005]\n",
      " [0.005]\n",
      " ...\n",
      " [0.995]\n",
      " [0.005]\n",
      " [0.005]]\n"
     ]
    }
   ],
   "source": [
    "y_pred = model.predict(test)\n",
    "y_pred = y_pred.clip(min=0.005, max=0.995)\n",
    "print(y_pred)"
   ]
  },
  {
   "cell_type": "code",
   "execution_count": 429,
   "metadata": {
    "collapsed": true
   },
   "outputs": [],
   "source": [
    "import pandas as pd\n",
    "from keras.preprocessing.image import *"
   ]
  },
  {
   "cell_type": "code",
   "execution_count": 430,
   "metadata": {},
   "outputs": [
    {
     "name": "stdout",
     "output_type": "stream",
     "text": [
      "Found 12500 images belonging to 1 classes.\n"
     ]
    },
    {
     "data": {
      "text/html": [
       "<div>\n",
       "<style>\n",
       "    .dataframe thead tr:only-child th {\n",
       "        text-align: right;\n",
       "    }\n",
       "\n",
       "    .dataframe thead th {\n",
       "        text-align: left;\n",
       "    }\n",
       "\n",
       "    .dataframe tbody tr th {\n",
       "        vertical-align: top;\n",
       "    }\n",
       "</style>\n",
       "<table border=\"1\" class=\"dataframe\">\n",
       "  <thead>\n",
       "    <tr style=\"text-align: right;\">\n",
       "      <th></th>\n",
       "      <th>id</th>\n",
       "      <th>label</th>\n",
       "    </tr>\n",
       "  </thead>\n",
       "  <tbody>\n",
       "    <tr>\n",
       "      <th>0</th>\n",
       "      <td>1</td>\n",
       "      <td>0.995</td>\n",
       "    </tr>\n",
       "    <tr>\n",
       "      <th>1</th>\n",
       "      <td>2</td>\n",
       "      <td>0.995</td>\n",
       "    </tr>\n",
       "    <tr>\n",
       "      <th>2</th>\n",
       "      <td>3</td>\n",
       "      <td>0.995</td>\n",
       "    </tr>\n",
       "    <tr>\n",
       "      <th>3</th>\n",
       "      <td>4</td>\n",
       "      <td>0.995</td>\n",
       "    </tr>\n",
       "    <tr>\n",
       "      <th>4</th>\n",
       "      <td>5</td>\n",
       "      <td>0.005</td>\n",
       "    </tr>\n",
       "    <tr>\n",
       "      <th>5</th>\n",
       "      <td>6</td>\n",
       "      <td>0.005</td>\n",
       "    </tr>\n",
       "    <tr>\n",
       "      <th>6</th>\n",
       "      <td>7</td>\n",
       "      <td>0.005</td>\n",
       "    </tr>\n",
       "    <tr>\n",
       "      <th>7</th>\n",
       "      <td>8</td>\n",
       "      <td>0.005</td>\n",
       "    </tr>\n",
       "  </tbody>\n",
       "</table>\n",
       "</div>"
      ],
      "text/plain": [
       "   id  label\n",
       "0   1  0.995\n",
       "1   2  0.995\n",
       "2   3  0.995\n",
       "3   4  0.995\n",
       "4   5  0.005\n",
       "5   6  0.005\n",
       "6   7  0.005\n",
       "7   8  0.005"
      ]
     },
     "execution_count": 430,
     "metadata": {},
     "output_type": "execute_result"
    }
   ],
   "source": [
    "df = pd.read_csv(\"data/sample_submission.csv\")\n",
    "# df.head(8)\n",
    "\n",
    "test_gen = ImageDataGenerator()\n",
    "test_generator = test_gen.flow_from_directory(\"data/test\", (299, 299), shuffle=False,\n",
    "                                         batch_size=64, class_mode=None)\n",
    "\n",
    "for i, fname in enumerate(test_generator.filenames):\n",
    "    # print(i, fname, y_pred[i])\n",
    "    index = int(fname[fname.rfind('/')+1:fname.rfind('.')])      \n",
    "#     print(index-1, y_pred[i])\n",
    "    df.set_value(index-1, 'label', y_pred[i])   \n",
    "# index=None，将index不写入csv文件\n",
    "# df.to_csv('pred.csv')\n",
    "# df.to_csv('pred.csv', index=None)\n",
    "df.to_csv('pred1.csv', index=None)\n",
    "df.head(8)"
   ]
  },
  {
   "cell_type": "code",
   "execution_count": null,
   "metadata": {
    "collapsed": true
   },
   "outputs": [],
   "source": []
  }
 ],
 "metadata": {
  "kernelspec": {
   "display_name": "Python 3",
   "language": "python",
   "name": "python3"
  },
  "language_info": {
   "codemirror_mode": {
    "name": "ipython",
    "version": 3
   },
   "file_extension": ".py",
   "mimetype": "text/x-python",
   "name": "python",
   "nbconvert_exporter": "python",
   "pygments_lexer": "ipython3",
   "version": "3.6.2"
  }
 },
 "nbformat": 4,
 "nbformat_minor": 2
}
