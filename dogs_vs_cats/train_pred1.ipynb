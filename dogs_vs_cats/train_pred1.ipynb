{
 "cells": [
  {
   "cell_type": "code",
   "execution_count": 330,
   "metadata": {},
   "outputs": [],
   "source": [
    "import h5py\n",
    "import numpy as np\n",
    "from sklearn.utils import shuffle\n",
    "np.random.seed(2018)"
   ]
  },
  {
   "cell_type": "code",
   "execution_count": 331,
   "metadata": {
    "collapsed": true
   },
   "outputs": [],
   "source": [
    "# train训练集、test测试集、validation验证集、train_label训练集标签、validation_label验证集标签\n",
    "train = []\n",
    "test = []\n",
    "validation = []\n",
    "train_label = []\n",
    "validation_label = []"
   ]
  },
  {
   "cell_type": "code",
   "execution_count": 332,
   "metadata": {
    "collapsed": true
   },
   "outputs": [],
   "source": [
    "# 读取提取的特征\n",
    "with h5py.File('Xception_feature_v1.h5', 'r') as h:\n",
    "    train.append(np.array(h['train']))\n",
    "    validation.append(np.array(h['validation']))\n",
    "    test.append(np.array(h['test']))\n",
    "    train_label = np.array(h['train_label'])\n",
    "    validation_label = np.array(h['validation_label'])"
   ]
  },
  {
   "cell_type": "code",
   "execution_count": 333,
   "metadata": {
    "collapsed": true
   },
   "outputs": [],
   "source": [
    "train = np.concatenate(train, axis=1)\n",
    "validation = np.concatenate(validation, axis=1)\n",
    "test = np.concatenate(test, axis=1)\n",
    "# print(X_test)"
   ]
  },
  {
   "cell_type": "code",
   "execution_count": 334,
   "metadata": {},
   "outputs": [],
   "source": [
    "from keras.models import *\n",
    "from keras.layers import *"
   ]
  },
  {
   "cell_type": "code",
   "execution_count": 335,
   "metadata": {},
   "outputs": [
    {
     "name": "stdout",
     "output_type": "stream",
     "text": [
      "0 input_31\n",
      "1 dropout_34\n",
      "2 dense_41\n"
     ]
    }
   ],
   "source": [
    "input_tensor = Input(train.shape[1:])\n",
    "x = input_tensor\n",
    "# x = Dense(1024, activation='relu')(x)\n",
    "# x = Dropout(0.5)(x)\n",
    "# x = Dense(64, activation='relu')(x)\n",
    "# 使用Dropout随机丢掉一部分特征\n",
    "x = Dropout(0.7155)(x)\n",
    "# 使用sigmoid作为激活函数\n",
    "x = Dense(1, activation='sigmoid')(x)\n",
    "model = Model(input_tensor, x)\n",
    "\n",
    "# for layer in base_model.layers:\n",
    "#     layer.trainable = False\n",
    "\n",
    "# for layer in model.layers[:2]:\n",
    "#    layer.trainable = False\n",
    "# for layer in model.layers[2:]:\n",
    "#    layer.trainable = True\n",
    "\n",
    "for i, layer in enumerate(model.layers):\n",
    "   print(i, layer.name)\n",
    "    \n",
    "# 使用RMSprop优化器\n",
    "model.compile(optimizer='RMSprop',\n",
    "              loss='binary_crossentropy',\n",
    "              metrics=['accuracy'])"
   ]
  },
  {
   "cell_type": "code",
   "execution_count": 336,
   "metadata": {},
   "outputs": [
    {
     "data": {
      "image/svg+xml": [
       "<svg height=\"191pt\" viewBox=\"0.00 0.00 143.36 191.00\" width=\"143pt\" xmlns=\"http://www.w3.org/2000/svg\" xmlns:xlink=\"http://www.w3.org/1999/xlink\">\n",
       "<g class=\"graph\" id=\"graph0\" transform=\"scale(1 1) rotate(0) translate(4 187)\">\n",
       "<title>G</title>\n",
       "<polygon fill=\"#ffffff\" points=\"-4,4 -4,-187 139.3623,-187 139.3623,4 -4,4\" stroke=\"transparent\"/>\n",
       "<!-- 5039688616 -->\n",
       "<g class=\"node\" id=\"node1\">\n",
       "<title>5039688616</title>\n",
       "<polygon fill=\"none\" points=\"0,-146.5 0,-182.5 135.3623,-182.5 135.3623,-146.5 0,-146.5\" stroke=\"#000000\"/>\n",
       "<text fill=\"#000000\" font-family=\"Times,serif\" font-size=\"14.00\" text-anchor=\"middle\" x=\"67.6812\" y=\"-160.3\">input_31: InputLayer</text>\n",
       "</g>\n",
       "<!-- 5039689288 -->\n",
       "<g class=\"node\" id=\"node2\">\n",
       "<title>5039689288</title>\n",
       "<polygon fill=\"none\" points=\".3794,-73.5 .3794,-109.5 134.9829,-109.5 134.9829,-73.5 .3794,-73.5\" stroke=\"#000000\"/>\n",
       "<text fill=\"#000000\" font-family=\"Times,serif\" font-size=\"14.00\" text-anchor=\"middle\" x=\"67.6812\" y=\"-87.3\">dropout_34: Dropout</text>\n",
       "</g>\n",
       "<!-- 5039688616&#45;&gt;5039689288 -->\n",
       "<g class=\"edge\" id=\"edge1\">\n",
       "<title>5039688616-&gt;5039689288</title>\n",
       "<path d=\"M67.6812,-146.4551C67.6812,-138.3828 67.6812,-128.6764 67.6812,-119.6817\" fill=\"none\" stroke=\"#000000\"/>\n",
       "<polygon fill=\"#000000\" points=\"71.1813,-119.5903 67.6812,-109.5904 64.1813,-119.5904 71.1813,-119.5903\" stroke=\"#000000\"/>\n",
       "</g>\n",
       "<!-- 5039687384 -->\n",
       "<g class=\"node\" id=\"node3\">\n",
       "<title>5039687384</title>\n",
       "<polygon fill=\"none\" points=\"12.0552,-.5 12.0552,-36.5 123.3071,-36.5 123.3071,-.5 12.0552,-.5\" stroke=\"#000000\"/>\n",
       "<text fill=\"#000000\" font-family=\"Times,serif\" font-size=\"14.00\" text-anchor=\"middle\" x=\"67.6812\" y=\"-14.3\">dense_41: Dense</text>\n",
       "</g>\n",
       "<!-- 5039689288&#45;&gt;5039687384 -->\n",
       "<g class=\"edge\" id=\"edge2\">\n",
       "<title>5039689288-&gt;5039687384</title>\n",
       "<path d=\"M67.6812,-73.4551C67.6812,-65.3828 67.6812,-55.6764 67.6812,-46.6817\" fill=\"none\" stroke=\"#000000\"/>\n",
       "<polygon fill=\"#000000\" points=\"71.1813,-46.5903 67.6812,-36.5904 64.1813,-46.5904 71.1813,-46.5903\" stroke=\"#000000\"/>\n",
       "</g>\n",
       "</g>\n",
       "</svg>"
      ],
      "text/plain": [
       "<IPython.core.display.SVG object>"
      ]
     },
     "execution_count": 336,
     "metadata": {},
     "output_type": "execute_result"
    }
   ],
   "source": [
    "# 模型可视化\n",
    "from IPython.display import SVG\n",
    "from keras.utils.vis_utils import model_to_dot\n",
    "\n",
    "SVG(model_to_dot(model).create(prog='dot', format='svg'))"
   ]
  },
  {
   "cell_type": "code",
   "execution_count": 337,
   "metadata": {},
   "outputs": [
    {
     "name": "stdout",
     "output_type": "stream",
     "text": [
      "Train on 19940 samples, validate on 4985 samples\n",
      "Epoch 1/30\n",
      "19940/19940 [==============================] - 1s 55us/step - loss: 0.1297 - acc: 0.9740 - val_loss: 0.0293 - val_acc: 0.9938\n",
      "Epoch 2/30\n",
      "19940/19940 [==============================] - 0s 21us/step - loss: 0.0334 - acc: 0.9914 - val_loss: 0.0198 - val_acc: 0.9942\n",
      "Epoch 3/30\n",
      "19940/19940 [==============================] - 0s 21us/step - loss: 0.0257 - acc: 0.9928 - val_loss: 0.0170 - val_acc: 0.9936\n",
      "Epoch 4/30\n",
      "19940/19940 [==============================] - 0s 21us/step - loss: 0.0250 - acc: 0.9930 - val_loss: 0.0158 - val_acc: 0.9940\n",
      "Epoch 5/30\n",
      "19940/19940 [==============================] - 0s 21us/step - loss: 0.0235 - acc: 0.9932 - val_loss: 0.0153 - val_acc: 0.9948\n",
      "Epoch 6/30\n",
      "19940/19940 [==============================] - 0s 21us/step - loss: 0.0225 - acc: 0.9935 - val_loss: 0.0150 - val_acc: 0.9950\n",
      "Epoch 7/30\n",
      "19940/19940 [==============================] - 0s 21us/step - loss: 0.0215 - acc: 0.9937 - val_loss: 0.0152 - val_acc: 0.9942\n",
      "Epoch 8/30\n",
      "19940/19940 [==============================] - 0s 21us/step - loss: 0.0214 - acc: 0.9943 - val_loss: 0.0145 - val_acc: 0.9942\n",
      "Epoch 9/30\n",
      "19940/19940 [==============================] - 0s 21us/step - loss: 0.0213 - acc: 0.9934 - val_loss: 0.0144 - val_acc: 0.9944\n",
      "Epoch 10/30\n",
      "19940/19940 [==============================] - 0s 22us/step - loss: 0.0219 - acc: 0.9943 - val_loss: 0.0143 - val_acc: 0.9950\n",
      "Epoch 11/30\n",
      "19940/19940 [==============================] - 1s 32us/step - loss: 0.0212 - acc: 0.9937 - val_loss: 0.0142 - val_acc: 0.9948\n",
      "Epoch 12/30\n",
      "19940/19940 [==============================] - 1s 26us/step - loss: 0.0216 - acc: 0.9938 - val_loss: 0.0141 - val_acc: 0.9952\n",
      "Epoch 13/30\n",
      "19940/19940 [==============================] - 0s 25us/step - loss: 0.0195 - acc: 0.9945 - val_loss: 0.0141 - val_acc: 0.9950\n",
      "Epoch 14/30\n",
      "19940/19940 [==============================] - 0s 21us/step - loss: 0.0204 - acc: 0.9946 - val_loss: 0.0140 - val_acc: 0.9952\n",
      "Epoch 15/30\n",
      "19940/19940 [==============================] - 1s 29us/step - loss: 0.0209 - acc: 0.9944 - val_loss: 0.0141 - val_acc: 0.9950\n",
      "Epoch 16/30\n",
      "19940/19940 [==============================] - 0s 24us/step - loss: 0.0194 - acc: 0.9944 - val_loss: 0.0142 - val_acc: 0.9950\n",
      "Epoch 17/30\n",
      "19940/19940 [==============================] - 1s 29us/step - loss: 0.0200 - acc: 0.9944 - val_loss: 0.0141 - val_acc: 0.9952\n",
      "Epoch 18/30\n",
      "19940/19940 [==============================] - 0s 21us/step - loss: 0.0193 - acc: 0.9946 - val_loss: 0.0140 - val_acc: 0.9952\n",
      "Epoch 19/30\n",
      "19940/19940 [==============================] - 0s 24us/step - loss: 0.0202 - acc: 0.9947 - val_loss: 0.0140 - val_acc: 0.9956\n",
      "Epoch 20/30\n",
      "19940/19940 [==============================] - 1s 35us/step - loss: 0.0184 - acc: 0.9948 - val_loss: 0.0141 - val_acc: 0.9952\n",
      "Epoch 21/30\n",
      "19940/19940 [==============================] - 0s 22us/step - loss: 0.0205 - acc: 0.9946 - val_loss: 0.0141 - val_acc: 0.9952\n",
      "Epoch 22/30\n",
      "19940/19940 [==============================] - 0s 23us/step - loss: 0.0204 - acc: 0.9947 - val_loss: 0.0141 - val_acc: 0.9954\n",
      "Epoch 23/30\n",
      "19940/19940 [==============================] - 0s 21us/step - loss: 0.0193 - acc: 0.9951 - val_loss: 0.0146 - val_acc: 0.9948\n",
      "Epoch 24/30\n",
      "19940/19940 [==============================] - 0s 21us/step - loss: 0.0203 - acc: 0.9943 - val_loss: 0.0143 - val_acc: 0.9954\n",
      "Epoch 25/30\n",
      "19940/19940 [==============================] - 1s 29us/step - loss: 0.0201 - acc: 0.9943 - val_loss: 0.0145 - val_acc: 0.9954\n",
      "Epoch 26/30\n",
      "19940/19940 [==============================] - 1s 32us/step - loss: 0.0202 - acc: 0.9946 - val_loss: 0.0144 - val_acc: 0.9954\n",
      "Epoch 27/30\n",
      "19940/19940 [==============================] - 1s 27us/step - loss: 0.0204 - acc: 0.9942 - val_loss: 0.0144 - val_acc: 0.9954\n",
      "Epoch 28/30\n",
      "19940/19940 [==============================] - 1s 27us/step - loss: 0.0192 - acc: 0.9943 - val_loss: 0.0143 - val_acc: 0.9954\n",
      "Epoch 29/30\n",
      "19940/19940 [==============================] - 0s 22us/step - loss: 0.0195 - acc: 0.9943 - val_loss: 0.0145 - val_acc: 0.9952\n",
      "Epoch 30/30\n",
      "19940/19940 [==============================] - 0s 22us/step - loss: 0.0206 - acc: 0.9949 - val_loss: 0.0144 - val_acc: 0.9954\n"
     ]
    }
   ],
   "source": [
    "hist = model.fit(train, train_label,\n",
    "          epochs=30,\n",
    "          batch_size=128,\n",
    "          validation_data=(validation, validation_label))"
   ]
  },
  {
   "cell_type": "code",
   "execution_count": 338,
   "metadata": {},
   "outputs": [
    {
     "data": {
      "image/png": "[encoded data removed]",
      "text/plain": [
       "<matplotlib.figure.Figure at 0x11faa5518>"
      ]
     },
     "metadata": {},
     "output_type": "display_data"
    }
   ],
   "source": [
    "import matplotlib.pyplot as plt\n",
    "fig = plt.figure()  \n",
    "plt.plot(hist.history['acc'])\n",
    "plt.plot(hist.history['val_acc'])\n",
    "#设置标题  \n",
    "plt.title('model_accuracy') \n",
    "plt.xlabel(\"epoch\")\n",
    "plt.ylabel(\"accuracy\")\n",
    "plt.legend(['train', 'val'], loc='upper left')\n",
    "plt.show()"
   ]
  },
  {
   "cell_type": "code",
   "execution_count": 339,
   "metadata": {},
   "outputs": [
    {
     "data": {
      "image/png": "[encoded data removed]",
      "text/plain": [
       "<matplotlib.figure.Figure at 0x11fb05ac8>"
      ]
     },
     "metadata": {},
     "output_type": "display_data"
    }
   ],
   "source": [
    "import matplotlib.pyplot as plt\n",
    "fig = plt.figure()  \n",
    "plt.plot(hist.history['loss'])\n",
    "plt.plot(hist.history['val_loss'])\n",
    "#设置标题  \n",
    "plt.title('model_loss') \n",
    "plt.xlabel(\"epoch\")\n",
    "plt.ylabel(\"loss\")\n",
    "plt.legend(['train', 'val'], loc='upper left')\n",
    "plt.show()"
   ]
  },
  {
   "cell_type": "code",
   "execution_count": 340,
   "metadata": {},
   "outputs": [
    {
     "name": "stdout",
     "output_type": "stream",
     "text": [
      "[[0.995]\n",
      " [0.005]\n",
      " [0.005]\n",
      " ...\n",
      " [0.995]\n",
      " [0.005]\n",
      " [0.005]]\n"
     ]
    }
   ],
   "source": [
    "y_pred = model.predict(test)\n",
    "y_pred = y_pred.clip(min=0.005, max=0.995)\n",
    "print(y_pred)"
   ]
  },
  {
   "cell_type": "code",
   "execution_count": 341,
   "metadata": {
    "collapsed": true
   },
   "outputs": [],
   "source": [
    "import pandas as pd\n",
    "from keras.preprocessing.image import *"
   ]
  },
  {
   "cell_type": "code",
   "execution_count": 342,
   "metadata": {},
   "outputs": [
    {
     "name": "stdout",
     "output_type": "stream",
     "text": [
      "Found 12500 images belonging to 1 classes.\n"
     ]
    },
    {
     "data": {
      "text/html": [
       "<div>\n",
       "<style>\n",
       "    .dataframe thead tr:only-child th {\n",
       "        text-align: right;\n",
       "    }\n",
       "\n",
       "    .dataframe thead th {\n",
       "        text-align: left;\n",
       "    }\n",
       "\n",
       "    .dataframe tbody tr th {\n",
       "        vertical-align: top;\n",
       "    }\n",
       "</style>\n",
       "<table border=\"1\" class=\"dataframe\">\n",
       "  <thead>\n",
       "    <tr style=\"text-align: right;\">\n",
       "      <th></th>\n",
       "      <th>id</th>\n",
       "      <th>label</th>\n",
       "    </tr>\n",
       "  </thead>\n",
       "  <tbody>\n",
       "    <tr>\n",
       "      <th>0</th>\n",
       "      <td>1</td>\n",
       "      <td>0.995</td>\n",
       "    </tr>\n",
       "    <tr>\n",
       "      <th>1</th>\n",
       "      <td>2</td>\n",
       "      <td>0.995</td>\n",
       "    </tr>\n",
       "    <tr>\n",
       "      <th>2</th>\n",
       "      <td>3</td>\n",
       "      <td>0.995</td>\n",
       "    </tr>\n",
       "    <tr>\n",
       "      <th>3</th>\n",
       "      <td>4</td>\n",
       "      <td>0.995</td>\n",
       "    </tr>\n",
       "    <tr>\n",
       "      <th>4</th>\n",
       "      <td>5</td>\n",
       "      <td>0.005</td>\n",
       "    </tr>\n",
       "    <tr>\n",
       "      <th>5</th>\n",
       "      <td>6</td>\n",
       "      <td>0.005</td>\n",
       "    </tr>\n",
       "    <tr>\n",
       "      <th>6</th>\n",
       "      <td>7</td>\n",
       "      <td>0.005</td>\n",
       "    </tr>\n",
       "    <tr>\n",
       "      <th>7</th>\n",
       "      <td>8</td>\n",
       "      <td>0.005</td>\n",
       "    </tr>\n",
       "  </tbody>\n",
       "</table>\n",
       "</div>"
      ],
      "text/plain": [
       "   id  label\n",
       "0   1  0.995\n",
       "1   2  0.995\n",
       "2   3  0.995\n",
       "3   4  0.995\n",
       "4   5  0.005\n",
       "5   6  0.005\n",
       "6   7  0.005\n",
       "7   8  0.005"
      ]
     },
     "execution_count": 342,
     "metadata": {},
     "output_type": "execute_result"
    }
   ],
   "source": [
    "df = pd.read_csv(\"data/sample_submission.csv\")\n",
    "# df.head(8)\n",
    "\n",
    "test_gen = ImageDataGenerator()\n",
    "test_generator = test_gen.flow_from_directory(\"data/test\", (299, 299), shuffle=False,\n",
    "                                         batch_size=64, class_mode=None)\n",
    "\n",
    "for i, fname in enumerate(test_generator.filenames):\n",
    "    # print(i, fname, y_pred[i])\n",
    "    index = int(fname[fname.rfind('/')+1:fname.rfind('.')])      \n",
    "#     print(index-1, y_pred[i])\n",
    "    df.set_value(index-1, 'label', y_pred[i])   \n",
    "# index=None，将index不写入csv文件\n",
    "# df.to_csv('pred.csv')\n",
    "# df.to_csv('pred.csv', index=None)\n",
    "df.to_csv('pred16.csv', index=None)\n",
    "df.head(8)"
   ]
  },
  {
   "cell_type": "code",
   "execution_count": null,
   "metadata": {
    "collapsed": true
   },
   "outputs": [],
   "source": []
  }
 ],
 "metadata": {
  "kernelspec": {
   "display_name": "Python 3",
   "language": "python",
   "name": "python3"
  },
  "language_info": {
   "codemirror_mode": {
    "name": "ipython",
    "version": 3
   },
   "file_extension": ".py",
   "mimetype": "text/x-python",
   "name": "python",
   "nbconvert_exporter": "python",
   "pygments_lexer": "ipython3",
   "version": "3.6.2"
  }
 },
 "nbformat": 4,
 "nbformat_minor": 2
}
