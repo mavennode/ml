{
 "cells": [
  {
   "cell_type": "markdown",
   "metadata": {},
   "source": [
    "# 开题报告"
   ]
  },
  {
   "cell_type": "markdown",
   "metadata": {},
   "source": [
    "## Capstone Proposal"
   ]
  },
  {
   "cell_type": "markdown",
   "metadata": {},
   "source": [
    "Hua Lee\n",
    "\n",
    "2018年5月1日"
   ]
  },
  {
   "cell_type": "markdown",
   "metadata": {},
   "source": [
    "## Proposal"
   ]
  },
  {
   "cell_type": "markdown",
   "metadata": {},
   "source": [
    "Kaggle Competition"
   ]
  },
  {
   "cell_type": "markdown",
   "metadata": {},
   "source": [
    "### 项目背景"
   ]
  },
  {
   "cell_type": "markdown",
   "metadata": {},
   "source": [
    "  \n",
    "  深蓝在1997年在国际象棋比赛中击败卡斯帕罗夫。沃森在2011 年击败了Jeopardy最聪明的琐事。\n",
    "  \n",
    "  Web服务通常受到人们解决这个难题的挑战，但这对计算机来说很困难。这样的挑战通常被称为CAPTCHA（完全自动公开的图灵测试来告诉计算机和人类）或HIP（人类交互证明）。HIP用于多种用途，例如减少电子邮件和博客垃圾邮件，防止对网站密码进行暴力攻击。Asirra（一个CAPTCHA，要求用户从一组12张照片中识别出猫和狗）是一项HIP，通过询问用户识别猫和狗的照片而工作。这项任务对于计算机来说很难，但研究表明人们可以快速准确地完成任务。"
   ]
  },
  {
   "cell_type": "markdown",
   "metadata": {},
   "source": [
    "### 问题描述"
   ]
  },
  {
   "cell_type": "markdown",
   "metadata": {},
   "source": [
    "这个项目的目标是编写一个算法来分类图像是否包含狗或猫，是一个分类问题，我将使用深度学习对其图像进行分类。\n",
    "\n",
    "对原始图像中的猫和狗的训练集运用深度学习算法进行训练，将数据分为训练集和验证集，然后将训练出来的模型运用于测试集进行猫狗分类，将分类的结果上传kaggle，看分数排名。"
   ]
  },
  {
   "cell_type": "markdown",
   "metadata": {},
   "source": [
    "### 数据或输入"
   ]
  },
  {
   "cell_type": "markdown",
   "metadata": {},
   "source": [
    "数据集的链接为：https://www.kaggle.com/c/dogs-vs-cats/data\n",
    "\n",
    "打开链接，可以直接点下载，这个过程中需要验证手机，会发一个验证码，验证完成后，统一竞赛规则，则就可以下载数据集。\n",
    "\n",
    "数据包括3部分，一个sampleSubmission.csv的提交的样本格式，一个test1.zip的测试文件，一个train.zip的训练文件。将测试文件和训练文件解压，训练集有25000个狗和猫的图像，在此文件上进行训练模型，然后用模型在test1.zip测试集中预测标签（1 =狗，0 =猫）。"
   ]
  },
  {
   "cell_type": "markdown",
   "metadata": {},
   "source": [
    "### 解决方法描述"
   ]
  },
  {
   "cell_type": "markdown",
   "metadata": {},
   "source": [
    "解决猫狗分类问题，首先将将训练数据输入卷积神经网络层，运用train.zip集进行训练与验证，最后得到模型，将模型应用于test1.zip集中。对于训练模型，我会使用keras搭建CNN，后端使用tensorflow。"
   ]
  },
  {
   "cell_type": "markdown",
   "metadata": {},
   "source": [
    "### 评估标准"
   ]
  },
  {
   "cell_type": "markdown",
   "metadata": {},
   "source": [
    "性能是根据正确标记的图像的百分比进行评估的。\n",
    "\n",
    "最终评估提交到kaggle，看分数，看排名。"
   ]
  },
  {
   "cell_type": "markdown",
   "metadata": {},
   "source": [
    "### 基准模型"
   ]
  },
  {
   "cell_type": "markdown",
   "metadata": {},
   "source": [
    "这是一个分类问题，分类准确率到kaggle公共排行榜前10％。"
   ]
  },
  {
   "cell_type": "markdown",
   "metadata": {},
   "source": [
    "### 项目设计"
   ]
  },
  {
   "cell_type": "markdown",
   "metadata": {},
   "source": [
    "编程语言和库\n",
    "\n",
    "* python3\n",
    "\n",
    "* keras\n",
    "\n",
    "* tensorflow\n",
    "\n",
    "使用keras，Keras的后端为tensorflow，将train.zip数据划分为训练集和验证集，输入卷积神经网络中进行模型的训练，将训练好的模型应用于Kaggle提供的测试数据集test1.zip进行测试。"
   ]
  },
  {
   "cell_type": "markdown",
   "metadata": {},
   "source": [
    "### 参考"
   ]
  },
  {
   "cell_type": "markdown",
   "metadata": {},
   "source": [
    "* [Kaggle](www.kaggle.com)\n",
    "\n",
    "* [Keras](http://keras-cn.readthedocs.io/en/latest/)\n",
    "\n",
    "* [Tensorflow](https://www.kaggle.com)"
   ]
  }
 ],
 "metadata": {
  "kernelspec": {
   "display_name": "Python 3",
   "language": "python",
   "name": "python3"
  },
  "language_info": {
   "codemirror_mode": {
    "name": "ipython",
    "version": 3
   },
   "file_extension": ".py",
   "mimetype": "text/x-python",
   "name": "python",
   "nbconvert_exporter": "python",
   "pygments_lexer": "ipython3",
   "version": "3.6.3"
  }
 },
 "nbformat": 4,
 "nbformat_minor": 2
}
