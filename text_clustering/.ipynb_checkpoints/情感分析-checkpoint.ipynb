{
 "cells": [
  {
   "cell_type": "markdown",
   "metadata": {},
   "source": [
    "# 情感分析"
   ]
  },
  {
   "cell_type": "markdown",
   "metadata": {},
   "source": [
    "## 基于情感词典的方法"
   ]
  },
  {
   "cell_type": "markdown",
   "metadata": {},
   "source": [
    "### 1.情感词典\n",
    "\n",
    "https://bosonnlp.com/dev/resource\n",
    "\n",
    "### 2.否定词词典\n",
    "\n",
    "否定词直接将句子情感转向相反的方向，常见的否定词：不、没、无、非、勿、未、否、别、难道等。\n",
    "\n",
    "### 3.程度副词词典\n",
    "\n",
    "词典内数据格式共两列，第一列为程度副词，第二列是程度数值，> 1表示强化情感，< 1表示弱化情感。\n",
    "\n",
    "https://link.jianshu.com/?t=http://www.keenage.com/download/sentiment.rar\n",
    "\n",
    "如：\n",
    "\n",
    "非常 2\n",
    "\n",
    "极其 2\n",
    "\n",
    "### 4.停用词\n",
    "\n",
    "### 5.算法设计\n",
    "\n",
    "第一步：读取评论数据，对评论进行分句。\n",
    "\n",
    "第二步：查找对分句的情感词，记录积极还是消极，以及位置。\n",
    "\n",
    "第三步：往情感词前查找程度词，找到就停止搜寻。为程度词设权值，乘以情感值。\n",
    "\n",
    "第四步：往情感词前查找否定词，找完全部否定词，若数量为奇数，乘以-1，若为偶数，乘以1。\n",
    "\n",
    "第五步：判断分句结尾是否有感叹号，有叹号则往前寻找情感词，有则相应的情感值+2。\n",
    "\n",
    "第六步：finalSentiScore = (-1) ^ (num of notWords) * degreeNum * sentiScore\n",
    "\n",
    "第七步：计算并记录所有评论的情感值，finalScore = sum(finalSentiScore)。如若一个文本中含有多句话时，则取其所有句子情感得分的平均值。"
   ]
  },
  {
   "cell_type": "markdown",
   "metadata": {},
   "source": [
    "## 基于机器学习的方法"
   ]
  },
  {
   "cell_type": "markdown",
   "metadata": {},
   "source": [
    "### 1.数据预处理\n",
    "\n",
    "a. 正负向语料库\n",
    "\n",
    "b. 分词\n",
    "\n",
    "c. 去除停用词\n",
    "\n",
    "d. 训练词向量\n",
    "\n",
    "e. 降维\n",
    "\n",
    "f. 构建模型\n",
    "\n",
    "g. 模型评价\n"
   ]
  },
  {
   "cell_type": "code",
   "execution_count": null,
   "metadata": {
    "collapsed": true
   },
   "outputs": [],
   "source": []
  }
 ],
 "metadata": {
  "kernelspec": {
   "display_name": "Python 3",
   "language": "python",
   "name": "python3"
  },
  "language_info": {
   "codemirror_mode": {
    "name": "ipython",
    "version": 3
   },
   "file_extension": ".py",
   "mimetype": "text/x-python",
   "name": "python",
   "nbconvert_exporter": "python",
   "pygments_lexer": "ipython3",
   "version": "3.6.3"
  }
 },
 "nbformat": 4,
 "nbformat_minor": 2
}
